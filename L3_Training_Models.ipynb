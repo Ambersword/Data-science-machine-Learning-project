{
 "cells": [
  {
   "cell_type": "markdown",
   "id": "7a12b0f0",
   "metadata": {},
   "source": [
    "# Lesson 3: Training Models in Low Carbon Regions"
   ]
  },
  {
   "cell_type": "markdown",
   "id": "1de50c3f",
   "metadata": {},
   "source": [
    "* Import libraries to train a model locally."
   ]
  },
  {
   "cell_type": "code",
   "execution_count": 1,
   "id": "8b567f06-6dc3-429c-823a-c68f14a1171c",
   "metadata": {
    "height": 98
   },
   "outputs": [
    {
     "name": "stderr",
     "output_type": "stream",
     "text": [
      "2025-01-03 04:55:13.096930: I tensorflow/core/platform/cpu_feature_guard.cc:193] This TensorFlow binary is optimized with oneAPI Deep Neural Network Library (oneDNN) to use the following CPU instructions in performance-critical operations:  AVX2 AVX512F AVX512_VNNI AVX512_BF16 AVX_VNNI AMX_TILE AMX_INT8 AMX_BF16 FMA\n",
      "To enable them in other operations, rebuild TensorFlow with the appropriate compiler flags.\n",
      "2025-01-03 04:55:13.740807: I tensorflow/core/util/port.cc:104] oneDNN custom operations are on. You may see slightly different numerical results due to floating-point round-off errors from different computation orders. To turn them off, set the environment variable `TF_ENABLE_ONEDNN_OPTS=0`.\n",
      "2025-01-03 04:55:13.886969: W tensorflow/compiler/xla/stream_executor/platform/default/dso_loader.cc:64] Could not load dynamic library 'libcudart.so.11.0'; dlerror: libcudart.so.11.0: cannot open shared object file: No such file or directory\n",
      "2025-01-03 04:55:13.886996: I tensorflow/compiler/xla/stream_executor/cuda/cudart_stub.cc:29] Ignore above cudart dlerror if you do not have a GPU set up on your machine.\n",
      "2025-01-03 04:55:16.049927: W tensorflow/compiler/xla/stream_executor/platform/default/dso_loader.cc:64] Could not load dynamic library 'libnvinfer.so.7'; dlerror: libnvinfer.so.7: cannot open shared object file: No such file or directory\n",
      "2025-01-03 04:55:16.050976: W tensorflow/compiler/xla/stream_executor/platform/default/dso_loader.cc:64] Could not load dynamic library 'libnvinfer_plugin.so.7'; dlerror: libnvinfer_plugin.so.7: cannot open shared object file: No such file or directory\n",
      "2025-01-03 04:55:16.050982: W tensorflow/compiler/tf2tensorrt/utils/py_utils.cc:38] TF-TRT Warning: Cannot dlopen some TensorRT libraries. If you would like to use Nvidia GPU with TensorRT, please make sure the missing libraries mentioned above are installed properly.\n"
     ]
    }
   ],
   "source": [
    "import numpy as np\n",
    "from sklearn.datasets import make_blobs\n",
    "import tensorflow as tf\n",
    "from tensorflow.keras.models import Sequential\n",
    "from tensorflow.keras.layers import Dense"
   ]
  },
  {
   "cell_type": "markdown",
   "id": "4a3fce95",
   "metadata": {},
   "source": [
    "* Create a dataset.\n",
    "\n",
    "This is an example from the [Advanced Learning Algorithms](https://www.coursera.org/learn/advanced-learning-algorithms) course."
   ]
  },
  {
   "cell_type": "code",
   "execution_count": 2,
   "id": "47b67bc4-f6fb-410c-a9da-735c37685ee1",
   "metadata": {
    "height": 166
   },
   "outputs": [],
   "source": [
    "classes = 4\n",
    "m = 100\n",
    "centers = [[-5, 2], [-2, -2], [1, 2], [5, -2]]\n",
    "std = 1.0\n",
    "X_train, y_train = make_blobs(\n",
    "    n_samples=m, \n",
    "    centers=centers, \n",
    "    cluster_std=std,\n",
    "    random_state=30)"
   ]
  },
  {
   "cell_type": "markdown",
   "id": "4fcb41a9",
   "metadata": {},
   "source": [
    "* Create the model."
   ]
  },
  {
   "cell_type": "code",
   "execution_count": 3,
   "id": "43a4297a-cc98-47b7-95d4-703caecdccb7",
   "metadata": {
    "height": 132
   },
   "outputs": [
    {
     "name": "stderr",
     "output_type": "stream",
     "text": [
      "2025-01-03 04:55:18.663991: W tensorflow/compiler/xla/stream_executor/platform/default/dso_loader.cc:64] Could not load dynamic library 'libcuda.so.1'; dlerror: libcuda.so.1: cannot open shared object file: No such file or directory\n",
      "2025-01-03 04:55:18.664697: W tensorflow/compiler/xla/stream_executor/cuda/cuda_driver.cc:265] failed call to cuInit: UNKNOWN ERROR (303)\n",
      "2025-01-03 04:55:18.664729: I tensorflow/compiler/xla/stream_executor/cuda/cuda_diagnostics.cc:156] kernel driver does not appear to be running on this host (ip-172-29-40-232.us-west-1.compute.internal): /proc/driver/nvidia/version does not exist\n",
      "2025-01-03 04:55:18.668326: I tensorflow/core/platform/cpu_feature_guard.cc:193] This TensorFlow binary is optimized with oneAPI Deep Neural Network Library (oneDNN) to use the following CPU instructions in performance-critical operations:  AVX2 AVX512F AVX512_VNNI AVX512_BF16 AVX_VNNI AMX_TILE AMX_INT8 AMX_BF16 FMA\n",
      "To enable them in other operations, rebuild TensorFlow with the appropriate compiler flags.\n"
     ]
    }
   ],
   "source": [
    "# Create the model\n",
    "model = Sequential(\n",
    "    [\n",
    "        Dense(2, activation = 'relu',   name = \"L1\"),\n",
    "        Dense(4, activation = 'linear', name = \"L2\")\n",
    "    ]\n",
    ")"
   ]
  },
  {
   "cell_type": "code",
   "execution_count": 4,
   "id": "bdcb0dae-f2a5-440e-9699-64ed4e80e055",
   "metadata": {
    "height": 98
   },
   "outputs": [],
   "source": [
    "model.compile(\n",
    "    loss=tf.keras.losses.SparseCategoricalCrossentropy(\n",
    "        from_logits=True),\n",
    "    optimizer=tf.keras.optimizers.Adam(0.01),\n",
    ")"
   ]
  },
  {
   "cell_type": "markdown",
   "id": "065a4823",
   "metadata": {},
   "source": [
    "* Train the model."
   ]
  },
  {
   "cell_type": "code",
   "execution_count": 5,
   "id": "7ef0d574-3899-4808-88c1-de3e551528c8",
   "metadata": {
    "height": 81
   },
   "outputs": [
    {
     "name": "stdout",
     "output_type": "stream",
     "text": [
      "Epoch 1/200\n",
      "4/4 [==============================] - 0s 3ms/step - loss: 2.3209\n",
      "Epoch 2/200\n",
      "4/4 [==============================] - 0s 1ms/step - loss: 2.0788\n",
      "Epoch 3/200\n",
      "4/4 [==============================] - 0s 1ms/step - loss: 1.8839\n",
      "Epoch 4/200\n",
      "4/4 [==============================] - 0s 956us/step - loss: 1.7092\n",
      "Epoch 5/200\n",
      "4/4 [==============================] - 0s 960us/step - loss: 1.5829\n",
      "Epoch 6/200\n",
      "4/4 [==============================] - 0s 1ms/step - loss: 1.4924\n",
      "Epoch 7/200\n",
      "4/4 [==============================] - 0s 944us/step - loss: 1.4176\n",
      "Epoch 8/200\n",
      "4/4 [==============================] - 0s 894us/step - loss: 1.3667\n",
      "Epoch 9/200\n",
      "4/4 [==============================] - 0s 915us/step - loss: 1.3251\n",
      "Epoch 10/200\n",
      "4/4 [==============================] - 0s 879us/step - loss: 1.2896\n",
      "Epoch 11/200\n",
      "4/4 [==============================] - 0s 979us/step - loss: 1.2569\n",
      "Epoch 12/200\n",
      "4/4 [==============================] - 0s 1ms/step - loss: 1.2294\n",
      "Epoch 13/200\n",
      "4/4 [==============================] - 0s 992us/step - loss: 1.2007\n",
      "Epoch 14/200\n",
      "4/4 [==============================] - 0s 989us/step - loss: 1.1737\n",
      "Epoch 15/200\n",
      "4/4 [==============================] - 0s 976us/step - loss: 1.1462\n",
      "Epoch 16/200\n",
      "4/4 [==============================] - 0s 967us/step - loss: 1.1192\n",
      "Epoch 17/200\n",
      "4/4 [==============================] - 0s 951us/step - loss: 1.0914\n",
      "Epoch 18/200\n",
      "4/4 [==============================] - 0s 1ms/step - loss: 1.0644\n",
      "Epoch 19/200\n",
      "4/4 [==============================] - 0s 992us/step - loss: 1.0365\n",
      "Epoch 20/200\n",
      "4/4 [==============================] - 0s 978us/step - loss: 1.0089\n",
      "Epoch 21/200\n",
      "4/4 [==============================] - 0s 956us/step - loss: 0.9827\n",
      "Epoch 22/200\n",
      "4/4 [==============================] - 0s 989us/step - loss: 0.9552\n",
      "Epoch 23/200\n",
      "4/4 [==============================] - 0s 912us/step - loss: 0.9288\n",
      "Epoch 24/200\n",
      "4/4 [==============================] - 0s 790us/step - loss: 0.9032\n",
      "Epoch 25/200\n",
      "4/4 [==============================] - 0s 881us/step - loss: 0.8784\n",
      "Epoch 26/200\n",
      "4/4 [==============================] - 0s 1ms/step - loss: 0.8537\n",
      "Epoch 27/200\n",
      "4/4 [==============================] - 0s 919us/step - loss: 0.8282\n",
      "Epoch 28/200\n",
      "4/4 [==============================] - 0s 818us/step - loss: 0.8045\n",
      "Epoch 29/200\n",
      "4/4 [==============================] - 0s 940us/step - loss: 0.7811\n",
      "Epoch 30/200\n",
      "4/4 [==============================] - 0s 1ms/step - loss: 0.7601\n",
      "Epoch 31/200\n",
      "4/4 [==============================] - 0s 1ms/step - loss: 0.7405\n",
      "Epoch 32/200\n",
      "4/4 [==============================] - 0s 1ms/step - loss: 0.7215\n",
      "Epoch 33/200\n",
      "4/4 [==============================] - 0s 1ms/step - loss: 0.7040\n",
      "Epoch 34/200\n",
      "4/4 [==============================] - 0s 1ms/step - loss: 0.6880\n",
      "Epoch 35/200\n",
      "4/4 [==============================] - 0s 1ms/step - loss: 0.6723\n",
      "Epoch 36/200\n",
      "4/4 [==============================] - 0s 1ms/step - loss: 0.6576\n",
      "Epoch 37/200\n",
      "4/4 [==============================] - 0s 1ms/step - loss: 0.6453\n",
      "Epoch 38/200\n",
      "4/4 [==============================] - 0s 937us/step - loss: 0.6327\n",
      "Epoch 39/200\n",
      "4/4 [==============================] - 0s 799us/step - loss: 0.6216\n",
      "Epoch 40/200\n",
      "4/4 [==============================] - 0s 909us/step - loss: 0.6117\n",
      "Epoch 41/200\n",
      "4/4 [==============================] - 0s 821us/step - loss: 0.6019\n",
      "Epoch 42/200\n",
      "4/4 [==============================] - 0s 833us/step - loss: 0.5930\n",
      "Epoch 43/200\n",
      "4/4 [==============================] - 0s 880us/step - loss: 0.5846\n",
      "Epoch 44/200\n",
      "4/4 [==============================] - 0s 987us/step - loss: 0.5766\n",
      "Epoch 45/200\n",
      "4/4 [==============================] - 0s 944us/step - loss: 0.5687\n",
      "Epoch 46/200\n",
      "4/4 [==============================] - 0s 986us/step - loss: 0.5607\n",
      "Epoch 47/200\n",
      "4/4 [==============================] - 0s 1ms/step - loss: 0.5550\n",
      "Epoch 48/200\n",
      "4/4 [==============================] - 0s 1ms/step - loss: 0.5474\n",
      "Epoch 49/200\n",
      "4/4 [==============================] - 0s 958us/step - loss: 0.5410\n",
      "Epoch 50/200\n",
      "4/4 [==============================] - 0s 869us/step - loss: 0.5347\n",
      "Epoch 51/200\n",
      "4/4 [==============================] - 0s 1ms/step - loss: 0.5295\n",
      "Epoch 52/200\n",
      "4/4 [==============================] - 0s 949us/step - loss: 0.5231\n",
      "Epoch 53/200\n",
      "4/4 [==============================] - 0s 923us/step - loss: 0.5184\n",
      "Epoch 54/200\n",
      "4/4 [==============================] - 0s 922us/step - loss: 0.5133\n",
      "Epoch 55/200\n",
      "4/4 [==============================] - 0s 1ms/step - loss: 0.5087\n",
      "Epoch 56/200\n",
      "4/4 [==============================] - 0s 891us/step - loss: 0.5051\n",
      "Epoch 57/200\n",
      "4/4 [==============================] - 0s 943us/step - loss: 0.5011\n",
      "Epoch 58/200\n",
      "4/4 [==============================] - 0s 866us/step - loss: 0.4968\n",
      "Epoch 59/200\n",
      "4/4 [==============================] - 0s 852us/step - loss: 0.4931\n",
      "Epoch 60/200\n",
      "4/4 [==============================] - 0s 958us/step - loss: 0.4891\n",
      "Epoch 61/200\n",
      "4/4 [==============================] - 0s 1ms/step - loss: 0.4854\n",
      "Epoch 62/200\n",
      "4/4 [==============================] - 0s 828us/step - loss: 0.4820\n",
      "Epoch 63/200\n",
      "4/4 [==============================] - 0s 984us/step - loss: 0.4788\n",
      "Epoch 64/200\n",
      "4/4 [==============================] - 0s 849us/step - loss: 0.4758\n",
      "Epoch 65/200\n",
      "4/4 [==============================] - 0s 805us/step - loss: 0.4730\n",
      "Epoch 66/200\n",
      "4/4 [==============================] - 0s 926us/step - loss: 0.4700\n",
      "Epoch 67/200\n",
      "4/4 [==============================] - 0s 859us/step - loss: 0.4671\n",
      "Epoch 68/200\n",
      "4/4 [==============================] - 0s 810us/step - loss: 0.4642\n",
      "Epoch 69/200\n",
      "4/4 [==============================] - 0s 1ms/step - loss: 0.4616\n",
      "Epoch 70/200\n",
      "4/4 [==============================] - 0s 1ms/step - loss: 0.4590\n",
      "Epoch 71/200\n",
      "4/4 [==============================] - 0s 844us/step - loss: 0.4569\n",
      "Epoch 72/200\n",
      "4/4 [==============================] - 0s 928us/step - loss: 0.4549\n",
      "Epoch 73/200\n",
      "4/4 [==============================] - 0s 1000us/step - loss: 0.4529\n",
      "Epoch 74/200\n",
      "4/4 [==============================] - 0s 940us/step - loss: 0.4506\n",
      "Epoch 75/200\n",
      "4/4 [==============================] - 0s 821us/step - loss: 0.4480\n",
      "Epoch 76/200\n",
      "4/4 [==============================] - 0s 876us/step - loss: 0.4457\n",
      "Epoch 77/200\n",
      "4/4 [==============================] - 0s 825us/step - loss: 0.4442\n",
      "Epoch 78/200\n",
      "4/4 [==============================] - 0s 883us/step - loss: 0.4429\n",
      "Epoch 79/200\n",
      "4/4 [==============================] - 0s 878us/step - loss: 0.4415\n",
      "Epoch 80/200\n",
      "4/4 [==============================] - 0s 889us/step - loss: 0.4400\n",
      "Epoch 81/200\n",
      "4/4 [==============================] - 0s 1ms/step - loss: 0.4376\n",
      "Epoch 82/200\n",
      "4/4 [==============================] - 0s 837us/step - loss: 0.4353\n",
      "Epoch 83/200\n",
      "4/4 [==============================] - 0s 832us/step - loss: 0.4331\n",
      "Epoch 84/200\n",
      "4/4 [==============================] - 0s 845us/step - loss: 0.4317\n",
      "Epoch 85/200\n",
      "4/4 [==============================] - 0s 934us/step - loss: 0.4297\n",
      "Epoch 86/200\n",
      "4/4 [==============================] - 0s 1ms/step - loss: 0.4280\n",
      "Epoch 87/200\n",
      "4/4 [==============================] - 0s 892us/step - loss: 0.4263\n",
      "Epoch 88/200\n",
      "4/4 [==============================] - 0s 886us/step - loss: 0.4251\n",
      "Epoch 89/200\n",
      "4/4 [==============================] - 0s 910us/step - loss: 0.4238\n",
      "Epoch 90/200\n",
      "4/4 [==============================] - 0s 932us/step - loss: 0.4234\n",
      "Epoch 91/200\n",
      "4/4 [==============================] - 0s 879us/step - loss: 0.4224\n",
      "Epoch 92/200\n",
      "4/4 [==============================] - 0s 993us/step - loss: 0.4210\n",
      "Epoch 93/200\n",
      "4/4 [==============================] - 0s 922us/step - loss: 0.4199\n",
      "Epoch 94/200\n",
      "4/4 [==============================] - 0s 1ms/step - loss: 0.4188\n",
      "Epoch 95/200\n",
      "4/4 [==============================] - 0s 926us/step - loss: 0.4174\n",
      "Epoch 96/200\n",
      "4/4 [==============================] - 0s 902us/step - loss: 0.4162\n",
      "Epoch 97/200\n",
      "4/4 [==============================] - 0s 958us/step - loss: 0.4150\n",
      "Epoch 98/200\n",
      "4/4 [==============================] - 0s 855us/step - loss: 0.4136\n",
      "Epoch 99/200\n",
      "4/4 [==============================] - 0s 914us/step - loss: 0.4129\n",
      "Epoch 100/200\n",
      "4/4 [==============================] - 0s 961us/step - loss: 0.4120\n",
      "Epoch 101/200\n",
      "4/4 [==============================] - 0s 924us/step - loss: 0.4109\n",
      "Epoch 102/200\n"
     ]
    },
    {
     "name": "stdout",
     "output_type": "stream",
     "text": [
      "4/4 [==============================] - 0s 844us/step - loss: 0.4098\n",
      "Epoch 103/200\n",
      "4/4 [==============================] - 0s 1ms/step - loss: 0.4087\n",
      "Epoch 104/200\n",
      "4/4 [==============================] - 0s 993us/step - loss: 0.4075\n",
      "Epoch 105/200\n",
      "4/4 [==============================] - 0s 1ms/step - loss: 0.4063\n",
      "Epoch 106/200\n",
      "4/4 [==============================] - 0s 890us/step - loss: 0.4055\n",
      "Epoch 107/200\n",
      "4/4 [==============================] - 0s 1ms/step - loss: 0.4045\n",
      "Epoch 108/200\n",
      "4/4 [==============================] - 0s 852us/step - loss: 0.4041\n",
      "Epoch 109/200\n",
      "4/4 [==============================] - 0s 844us/step - loss: 0.4032\n",
      "Epoch 110/200\n",
      "4/4 [==============================] - 0s 863us/step - loss: 0.4023\n",
      "Epoch 111/200\n",
      "4/4 [==============================] - 0s 916us/step - loss: 0.4014\n",
      "Epoch 112/200\n",
      "4/4 [==============================] - 0s 776us/step - loss: 0.4006\n",
      "Epoch 113/200\n",
      "4/4 [==============================] - 0s 1ms/step - loss: 0.3999\n",
      "Epoch 114/200\n",
      "4/4 [==============================] - 0s 1ms/step - loss: 0.3992\n",
      "Epoch 115/200\n",
      "4/4 [==============================] - 0s 1ms/step - loss: 0.3983\n",
      "Epoch 116/200\n",
      "4/4 [==============================] - 0s 1ms/step - loss: 0.3976\n",
      "Epoch 117/200\n",
      "4/4 [==============================] - 0s 981us/step - loss: 0.3969\n",
      "Epoch 118/200\n",
      "4/4 [==============================] - 0s 998us/step - loss: 0.3964\n",
      "Epoch 119/200\n",
      "4/4 [==============================] - 0s 922us/step - loss: 0.3963\n",
      "Epoch 120/200\n",
      "4/4 [==============================] - 0s 931us/step - loss: 0.3960\n",
      "Epoch 121/200\n",
      "4/4 [==============================] - 0s 1ms/step - loss: 0.3953\n",
      "Epoch 122/200\n",
      "4/4 [==============================] - 0s 959us/step - loss: 0.3945\n",
      "Epoch 123/200\n",
      "4/4 [==============================] - 0s 861us/step - loss: 0.3935\n",
      "Epoch 124/200\n",
      "4/4 [==============================] - 0s 876us/step - loss: 0.3925\n",
      "Epoch 125/200\n",
      "4/4 [==============================] - 0s 989us/step - loss: 0.3918\n",
      "Epoch 126/200\n",
      "4/4 [==============================] - 0s 983us/step - loss: 0.3911\n",
      "Epoch 127/200\n",
      "4/4 [==============================] - 0s 944us/step - loss: 0.3915\n",
      "Epoch 128/200\n",
      "4/4 [==============================] - 0s 894us/step - loss: 0.3911\n",
      "Epoch 129/200\n",
      "4/4 [==============================] - 0s 991us/step - loss: 0.3906\n",
      "Epoch 130/200\n",
      "4/4 [==============================] - 0s 845us/step - loss: 0.3904\n",
      "Epoch 131/200\n",
      "4/4 [==============================] - 0s 1ms/step - loss: 0.3901\n",
      "Epoch 132/200\n",
      "4/4 [==============================] - 0s 1ms/step - loss: 0.3896\n",
      "Epoch 133/200\n",
      "4/4 [==============================] - 0s 862us/step - loss: 0.3891\n",
      "Epoch 134/200\n",
      "4/4 [==============================] - 0s 946us/step - loss: 0.3888\n",
      "Epoch 135/200\n",
      "4/4 [==============================] - 0s 1ms/step - loss: 0.3883\n",
      "Epoch 136/200\n",
      "4/4 [==============================] - 0s 970us/step - loss: 0.3875\n",
      "Epoch 137/200\n",
      "4/4 [==============================] - 0s 922us/step - loss: 0.3868\n",
      "Epoch 138/200\n",
      "4/4 [==============================] - 0s 862us/step - loss: 0.3858\n",
      "Epoch 139/200\n",
      "4/4 [==============================] - 0s 897us/step - loss: 0.3847\n",
      "Epoch 140/200\n",
      "4/4 [==============================] - 0s 1ms/step - loss: 0.3838\n",
      "Epoch 141/200\n",
      "4/4 [==============================] - 0s 952us/step - loss: 0.3834\n",
      "Epoch 142/200\n",
      "4/4 [==============================] - 0s 1ms/step - loss: 0.3829\n",
      "Epoch 143/200\n",
      "4/4 [==============================] - 0s 864us/step - loss: 0.3825\n",
      "Epoch 144/200\n",
      "4/4 [==============================] - 0s 819us/step - loss: 0.3824\n",
      "Epoch 145/200\n",
      "4/4 [==============================] - 0s 1ms/step - loss: 0.3819\n",
      "Epoch 146/200\n",
      "4/4 [==============================] - 0s 888us/step - loss: 0.3815\n",
      "Epoch 147/200\n",
      "4/4 [==============================] - 0s 970us/step - loss: 0.3808\n",
      "Epoch 148/200\n",
      "4/4 [==============================] - 0s 845us/step - loss: 0.3803\n",
      "Epoch 149/200\n",
      "4/4 [==============================] - 0s 846us/step - loss: 0.3800\n",
      "Epoch 150/200\n",
      "4/4 [==============================] - 0s 816us/step - loss: 0.3796\n",
      "Epoch 151/200\n",
      "4/4 [==============================] - 0s 887us/step - loss: 0.3791\n",
      "Epoch 152/200\n",
      "4/4 [==============================] - 0s 937us/step - loss: 0.3787\n",
      "Epoch 153/200\n",
      "4/4 [==============================] - 0s 986us/step - loss: 0.3781\n",
      "Epoch 154/200\n",
      "4/4 [==============================] - 0s 830us/step - loss: 0.3781\n",
      "Epoch 155/200\n",
      "4/4 [==============================] - 0s 911us/step - loss: 0.3776\n",
      "Epoch 156/200\n",
      "4/4 [==============================] - 0s 928us/step - loss: 0.3774\n",
      "Epoch 157/200\n",
      "4/4 [==============================] - 0s 831us/step - loss: 0.3769\n",
      "Epoch 158/200\n",
      "4/4 [==============================] - 0s 947us/step - loss: 0.3765\n",
      "Epoch 159/200\n",
      "4/4 [==============================] - 0s 1ms/step - loss: 0.3760\n",
      "Epoch 160/200\n",
      "4/4 [==============================] - 0s 869us/step - loss: 0.3757\n",
      "Epoch 161/200\n",
      "4/4 [==============================] - 0s 1ms/step - loss: 0.3753\n",
      "Epoch 162/200\n",
      "4/4 [==============================] - 0s 906us/step - loss: 0.3749\n",
      "Epoch 163/200\n",
      "4/4 [==============================] - 0s 984us/step - loss: 0.3749\n",
      "Epoch 164/200\n",
      "4/4 [==============================] - 0s 872us/step - loss: 0.3744\n",
      "Epoch 165/200\n",
      "4/4 [==============================] - 0s 926us/step - loss: 0.3741\n",
      "Epoch 166/200\n",
      "4/4 [==============================] - 0s 775us/step - loss: 0.3739\n",
      "Epoch 167/200\n",
      "4/4 [==============================] - 0s 809us/step - loss: 0.3735\n",
      "Epoch 168/200\n",
      "4/4 [==============================] - 0s 844us/step - loss: 0.3731\n",
      "Epoch 169/200\n",
      "4/4 [==============================] - 0s 816us/step - loss: 0.3727\n",
      "Epoch 170/200\n",
      "4/4 [==============================] - 0s 849us/step - loss: 0.3724\n",
      "Epoch 171/200\n",
      "4/4 [==============================] - 0s 1ms/step - loss: 0.3721\n",
      "Epoch 172/200\n",
      "4/4 [==============================] - 0s 941us/step - loss: 0.3717\n",
      "Epoch 173/200\n",
      "4/4 [==============================] - 0s 778us/step - loss: 0.3715\n",
      "Epoch 174/200\n",
      "4/4 [==============================] - 0s 1ms/step - loss: 0.3717\n",
      "Epoch 175/200\n",
      "4/4 [==============================] - 0s 825us/step - loss: 0.3715\n",
      "Epoch 176/200\n",
      "4/4 [==============================] - 0s 1ms/step - loss: 0.3711\n",
      "Epoch 177/200\n",
      "4/4 [==============================] - 0s 846us/step - loss: 0.3710\n",
      "Epoch 178/200\n",
      "4/4 [==============================] - 0s 1ms/step - loss: 0.3707\n",
      "Epoch 179/200\n",
      "4/4 [==============================] - 0s 822us/step - loss: 0.3703\n",
      "Epoch 180/200\n",
      "4/4 [==============================] - 0s 1ms/step - loss: 0.3699\n",
      "Epoch 181/200\n",
      "4/4 [==============================] - 0s 978us/step - loss: 0.3695\n",
      "Epoch 182/200\n",
      "4/4 [==============================] - 0s 988us/step - loss: 0.3692\n",
      "Epoch 183/200\n",
      "4/4 [==============================] - 0s 1ms/step - loss: 0.3689\n",
      "Epoch 184/200\n",
      "4/4 [==============================] - 0s 880us/step - loss: 0.3683\n",
      "Epoch 185/200\n",
      "4/4 [==============================] - 0s 730us/step - loss: 0.3682\n",
      "Epoch 186/200\n",
      "4/4 [==============================] - 0s 943us/step - loss: 0.3676\n",
      "Epoch 187/200\n",
      "4/4 [==============================] - 0s 790us/step - loss: 0.3673\n",
      "Epoch 188/200\n",
      "4/4 [==============================] - 0s 887us/step - loss: 0.3669\n",
      "Epoch 189/200\n",
      "4/4 [==============================] - 0s 937us/step - loss: 0.3668\n",
      "Epoch 190/200\n",
      "4/4 [==============================] - 0s 1ms/step - loss: 0.3665\n",
      "Epoch 191/200\n",
      "4/4 [==============================] - 0s 878us/step - loss: 0.3660\n",
      "Epoch 192/200\n",
      "4/4 [==============================] - 0s 848us/step - loss: 0.3660\n",
      "Epoch 193/200\n",
      "4/4 [==============================] - 0s 1ms/step - loss: 0.3656\n",
      "Epoch 194/200\n",
      "4/4 [==============================] - 0s 891us/step - loss: 0.3652\n",
      "Epoch 195/200\n",
      "4/4 [==============================] - 0s 926us/step - loss: 0.3649\n",
      "Epoch 196/200\n",
      "4/4 [==============================] - 0s 850us/step - loss: 0.3647\n",
      "Epoch 197/200\n",
      "4/4 [==============================] - 0s 864us/step - loss: 0.3645\n",
      "Epoch 198/200\n",
      "4/4 [==============================] - 0s 827us/step - loss: 0.3643\n",
      "Epoch 199/200\n",
      "4/4 [==============================] - 0s 851us/step - loss: 0.3642\n",
      "Epoch 200/200\n",
      "4/4 [==============================] - 0s 843us/step - loss: 0.3638\n"
     ]
    },
    {
     "data": {
      "text/plain": [
       "<keras.callbacks.History at 0x7fe9e8529480>"
      ]
     },
     "execution_count": 5,
     "metadata": {},
     "output_type": "execute_result"
    }
   ],
   "source": [
    "model.fit(\n",
    "    X_train,y_train,\n",
    "    epochs=200\n",
    ")"
   ]
  },
  {
   "cell_type": "markdown",
   "id": "7916c263",
   "metadata": {},
   "source": [
    "### Running on Google Cloud\n",
    "\n",
    "We will use Google Cloud's ML platform, Vertex AI. To run this code on Vertex AI, we first need to:\n",
    "1. Import and initialize the Vertex AI Python SDK\n",
    "2. Write the ML training code to a file\n",
    "3. Configure and submit a training job that runs our training code."
   ]
  },
  {
   "cell_type": "markdown",
   "id": "ff5628f8",
   "metadata": {},
   "source": [
    "* Step 1. Initialize Vertex AI."
   ]
  },
  {
   "cell_type": "code",
   "execution_count": 6,
   "id": "6aa103e6-91f0-4506-b444-7af210ae0b05",
   "metadata": {
    "height": 47
   },
   "outputs": [],
   "source": [
    "from helper import authenticate\n",
    "CREDENTIALS, PROJECT_ID = authenticate()"
   ]
  },
  {
   "cell_type": "code",
   "execution_count": 7,
   "id": "165068fa-747a-4a43-aaae-24599ec361c3",
   "metadata": {
    "height": 30
   },
   "outputs": [],
   "source": [
    "from google.cloud import aiplatform"
   ]
  },
  {
   "cell_type": "code",
   "execution_count": 8,
   "id": "95d98265-e5e2-4adf-9ef3-b7ab5e4dd7f7",
   "metadata": {
    "height": 64
   },
   "outputs": [],
   "source": [
    "aiplatform.init(project=PROJECT_ID,\n",
    "                credentials=CREDENTIALS,\n",
    "                )"
   ]
  },
  {
   "cell_type": "markdown",
   "id": "2205640c",
   "metadata": {},
   "source": [
    "* Step 2. Write the ML training code to a file."
   ]
  },
  {
   "cell_type": "code",
   "execution_count": 9,
   "id": "e6c4ad22-f843-497a-8efe-03780857be08",
   "metadata": {
    "height": 676
   },
   "outputs": [
    {
     "name": "stdout",
     "output_type": "stream",
     "text": [
      "Overwriting task.py\n"
     ]
    }
   ],
   "source": [
    "%%writefile task.py\n",
    "\n",
    "# import libraries\n",
    "import numpy as np\n",
    "from sklearn.datasets import make_blobs\n",
    "import tensorflow as tf\n",
    "from tensorflow.keras.models import Sequential\n",
    "from tensorflow.keras.layers import Dense\n",
    "\n",
    "# Create dataset\n",
    "classes = 4\n",
    "m = 100\n",
    "centers = [[-5, 2], [-2, -2], [1, 2], [5, -2]]\n",
    "std = 1.0\n",
    "X_train, y_train = make_blobs(\n",
    "    n_samples=m, \n",
    "    centers=centers, \n",
    "    cluster_std=std,\n",
    "    random_state=30)\n",
    "\n",
    "# Create the model\n",
    "model = Sequential(\n",
    "    [\n",
    "        Dense(2, activation = 'relu',   name = \"L1\"),\n",
    "        Dense(4, activation = 'linear', name = \"L2\")\n",
    "    ]\n",
    ")\n",
    "\n",
    "model.compile(\n",
    "    loss=tf.keras.losses.SparseCategoricalCrossentropy(\n",
    "        from_logits=True),\n",
    "    optimizer=tf.keras.optimizers.Adam(0.01),\n",
    ")\n",
    "\n",
    "# Train\n",
    "model.fit(\n",
    "    X_train,y_train,\n",
    "    epochs=200\n",
    ")"
   ]
  },
  {
   "cell_type": "code",
   "execution_count": 10,
   "id": "616ceab3-02f3-49f5-88bd-b560a4a3908d",
   "metadata": {
    "height": 30
   },
   "outputs": [
    {
     "name": "stdout",
     "output_type": "stream",
     "text": [
      "L3_Training_Models.ipynb  \u001b[0m\u001b[01;34m__pycache__\u001b[0m/  helper.py  task.py\r\n"
     ]
    }
   ],
   "source": [
    "ls"
   ]
  },
  {
   "cell_type": "code",
   "execution_count": 11,
   "id": "ff21b5e4-5439-4721-a28b-109fc7230cf7",
   "metadata": {
    "height": 30
   },
   "outputs": [
    {
     "name": "stdout",
     "output_type": "stream",
     "text": [
      "\r\n",
      "# import libraries\r\n",
      "import numpy as np\r\n",
      "from sklearn.datasets import make_blobs\r\n",
      "import tensorflow as tf\r\n",
      "from tensorflow.keras.models import Sequential\r\n",
      "from tensorflow.keras.layers import Dense\r\n",
      "\r\n",
      "# Create dataset\r\n",
      "classes = 4\r\n",
      "m = 100\r\n",
      "centers = [[-5, 2], [-2, -2], [1, 2], [5, -2]]\r\n",
      "std = 1.0\r\n",
      "X_train, y_train = make_blobs(\r\n",
      "    n_samples=m, \r\n",
      "    centers=centers, \r\n",
      "    cluster_std=std,\r\n",
      "    random_state=30)\r\n",
      "\r\n",
      "# Create the model\r\n",
      "model = Sequential(\r\n",
      "    [\r\n",
      "        Dense(2, activation = 'relu',   name = \"L1\"),\r\n",
      "        Dense(4, activation = 'linear', name = \"L2\")\r\n",
      "    ]\r\n",
      ")\r\n",
      "\r\n",
      "model.compile(\r\n",
      "    loss=tf.keras.losses.SparseCategoricalCrossentropy(\r\n",
      "        from_logits=True),\r\n",
      "    optimizer=tf.keras.optimizers.Adam(0.01),\r\n",
      ")\r\n",
      "\r\n",
      "# Train\r\n",
      "model.fit(\r\n",
      "    X_train,y_train,\r\n",
      "    epochs=200\r\n",
      ")\r\n"
     ]
    }
   ],
   "source": [
    "cat task.py"
   ]
  },
  {
   "cell_type": "markdown",
   "id": "b2bfa47c",
   "metadata": {},
   "source": [
    "* Define the Custom Trainin Job."
   ]
  },
  {
   "cell_type": "markdown",
   "id": "0fbb742d",
   "metadata": {},
   "source": [
    "> Note: Check here to find more information about [Prebuilt containers for custom training](https://cloud.google.com/vertex-ai/docs/training/pre-built-containers)\n",
    "\n",
    "> Note: Check here to find more information about [Carbon free energy for Google Cloud regions](https://cloud.google.com/sustainability/region-carbon)"
   ]
  },
  {
   "cell_type": "code",
   "execution_count": 12,
   "id": "06e502c7-eda6-4c10-978d-aa730731dbb7",
   "metadata": {
    "height": 47
   },
   "outputs": [],
   "source": [
    "# Choose a location (with carbon free energy available for this example)\n",
    "REGION = 'us-central1'"
   ]
  },
  {
   "cell_type": "markdown",
   "id": "86977ad6",
   "metadata": {},
   "source": [
    "* Create a store bucket."
   ]
  },
  {
   "cell_type": "code",
   "execution_count": 13,
   "id": "fa25f631-175d-4700-bc30-70db90cb6bcb",
   "metadata": {
    "height": 47
   },
   "outputs": [],
   "source": [
    "import random\n",
    "import string"
   ]
  },
  {
   "cell_type": "code",
   "execution_count": 14,
   "id": "58367b95-19e4-4e8b-a2c3-a1b0a256643e",
   "metadata": {
    "height": 132
   },
   "outputs": [],
   "source": [
    "def generate_uuid(length: int = 8) -> str:\n",
    "    return \"\".join(\n",
    "        random.choices(\n",
    "            string.ascii_lowercase + string.digits, \n",
    "            k=length))\n",
    "\n",
    "UUID = generate_uuid()"
   ]
  },
  {
   "cell_type": "code",
   "execution_count": 15,
   "id": "2380693a-7167-4855-b516-e2837b4b9a97",
   "metadata": {
    "height": 47
   },
   "outputs": [
    {
     "data": {
      "text/plain": [
       "'eruebkpi'"
      ]
     },
     "execution_count": 15,
     "metadata": {},
     "output_type": "execute_result"
    }
   ],
   "source": [
    "# The unique identifier\n",
    "UUID"
   ]
  },
  {
   "cell_type": "code",
   "execution_count": 16,
   "id": "489859f0-5299-43a2-a718-6637dc37b41a",
   "metadata": {
    "height": 30
   },
   "outputs": [],
   "source": [
    "from google.cloud import storage"
   ]
  },
  {
   "cell_type": "code",
   "execution_count": 17,
   "id": "986c8fd6-6558-408e-bd04-74b301842acb",
   "metadata": {
    "height": 47
   },
   "outputs": [],
   "source": [
    "storage_client = storage.Client(project = PROJECT_ID,\n",
    "                                credentials = CREDENTIALS)"
   ]
  },
  {
   "cell_type": "code",
   "execution_count": 18,
   "id": "cd33c614-ff8a-4acc-b8e1-5f7a530ab565",
   "metadata": {
    "height": 30
   },
   "outputs": [],
   "source": [
    "bucket_name = f'carbon-course-bucket-{UUID}'"
   ]
  },
  {
   "cell_type": "code",
   "execution_count": 19,
   "id": "aa46eac4-6009-4489-bc6e-ed18b2db7dff",
   "metadata": {
    "height": 30
   },
   "outputs": [
    {
     "data": {
      "text/plain": [
       "'carbon-course-bucket-eruebkpi'"
      ]
     },
     "execution_count": 19,
     "metadata": {},
     "output_type": "execute_result"
    }
   ],
   "source": [
    "bucket_name"
   ]
  },
  {
   "cell_type": "code",
   "execution_count": 20,
   "id": "b9377f73-662c-45fb-ada9-0b6152b7fb40",
   "metadata": {
    "height": 30
   },
   "outputs": [],
   "source": [
    "bucket = storage_client.bucket(bucket_name)"
   ]
  },
  {
   "cell_type": "code",
   "execution_count": 21,
   "id": "424eb498-ecc1-43d7-8e2d-812bf272ac73",
   "metadata": {
    "height": 30
   },
   "outputs": [],
   "source": [
    "bucket.create(location=REGION)"
   ]
  },
  {
   "cell_type": "code",
   "execution_count": 22,
   "id": "67cc2bb0-f678-4c5d-bf75-1b57911397cd",
   "metadata": {
    "height": 149
   },
   "outputs": [],
   "source": [
    "# Create the CustomTrainingJob\n",
    "job = aiplatform.CustomTrainingJob(\n",
    "    display_name='dlai-course-example',\n",
    "    script_path='task.py',\n",
    "    container_uri='us-docker.pkg.dev/vertex-ai/training/tf-cpu.2-14.py310:latest',\n",
    "    staging_bucket=f'gs://{bucket_name}',\n",
    "    location=REGION,\n",
    ")"
   ]
  },
  {
   "cell_type": "code",
   "execution_count": 23,
   "id": "1cc56b5d-4108-4592-a580-bc0e587f0ce7",
   "metadata": {
    "height": 30
   },
   "outputs": [
    {
     "name": "stdout",
     "output_type": "stream",
     "text": [
      "Training script copied to:\n",
      "gs://carbon-course-bucket-eruebkpi/aiplatform-2025-01-03-04-55-22.094-aiplatform_custom_trainer_script-0.1.tar.gz.\n",
      "Training Output directory:\n",
      "gs://carbon-course-bucket-eruebkpi/aiplatform-custom-training-2025-01-03-04-55-22.094\n",
      "View Training:\n",
      "https://console.cloud.google.com/ai/platform/locations/us-central1/training/3727316689851777024?project=362161713137\n",
      "View backing custom job:\n",
      "https://console.cloud.google.com/ai/platform/locations/us-central1/training/1619438550195896320?project=362161713137\n",
      "CustomTrainingJob projects/362161713137/locations/us-central1/trainingPipelines/3727316689851777024 current state:\n",
      "PipelineState.PIPELINE_STATE_RUNNING\n",
      "CustomTrainingJob projects/362161713137/locations/us-central1/trainingPipelines/3727316689851777024 current state:\n",
      "PipelineState.PIPELINE_STATE_RUNNING\n",
      "CustomTrainingJob projects/362161713137/locations/us-central1/trainingPipelines/3727316689851777024 current state:\n",
      "PipelineState.PIPELINE_STATE_RUNNING\n",
      "CustomTrainingJob projects/362161713137/locations/us-central1/trainingPipelines/3727316689851777024 current state:\n",
      "PipelineState.PIPELINE_STATE_RUNNING\n",
      "CustomTrainingJob projects/362161713137/locations/us-central1/trainingPipelines/3727316689851777024 current state:\n",
      "PipelineState.PIPELINE_STATE_RUNNING\n",
      "CustomTrainingJob run completed. Resource name: projects/362161713137/locations/us-central1/trainingPipelines/3727316689851777024 is not configured to upload a Model. Create the Training Pipeline with model_serving_container_image_uri and model_display_name passed in. Ensure that your training script saves to model to os.environ['AIP_MODEL_DIR']\n"
     ]
    }
   ],
   "source": [
    "model = job.run()"
   ]
  },
  {
   "cell_type": "code",
   "execution_count": 24,
   "id": "4d65abae-b35b-4818-853a-4c68a44587f8",
   "metadata": {
    "height": 47
   },
   "outputs": [],
   "source": [
    "# Delete the bucket to clean up resources\n",
    "bucket.delete(force=True)"
   ]
  }
 ],
 "metadata": {
  "kernelspec": {
   "display_name": "Python 3 (ipykernel)",
   "language": "python",
   "name": "python3"
  },
  "language_info": {
   "codemirror_mode": {
    "name": "ipython",
    "version": 3
   },
   "file_extension": ".py",
   "mimetype": "text/x-python",
   "name": "python",
   "nbconvert_exporter": "python",
   "pygments_lexer": "ipython3",
   "version": "3.10.14"
  }
 },
 "nbformat": 4,
 "nbformat_minor": 5
}
